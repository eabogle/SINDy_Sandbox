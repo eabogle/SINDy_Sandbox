{
 "cells": [
  {
   "cell_type": "markdown",
   "id": "4bd754f8-795b-4987-ab96-9fae765b7cec",
   "metadata": {},
   "source": [
    "## Trying PySINDy with Generalized Lorenz Systems"
   ]
  },
  {
   "cell_type": "code",
   "execution_count": 9,
   "id": "82b4bacd-ee77-4c9f-8ec8-beaf106bd8b0",
   "metadata": {
    "tags": []
   },
   "outputs": [
    {
     "name": "stderr",
     "output_type": "stream",
     "text": [
      "/var/folders/j4/fc2yy05n3_v93dhk228gby9h0000gn/T/ipykernel_47338/3757374017.py:29: DeprecationWarning: Please use `ODEintWarning` from the `scipy.integrate` namespace, the `scipy.integrate.odepack` namespace is deprecated.\n",
      "  from scipy.integrate.odepack import ODEintWarning\n"
     ]
    }
   ],
   "source": [
    "# Import needed packages\n",
    "import matplotlib.pyplot as plt\n",
    "from mpl_toolkits.mplot3d import Axes3D\n",
    "from matplotlib.cm import rainbow\n",
    "import numpy as np\n",
    "from scipy.integrate import trapezoid\n",
    "from scipy.interpolate import interp1d\n",
    "from sklearn.metrics import mean_squared_error\n",
    "from scipy.integrate import solve_ivp\n",
    "from scipy.io import loadmat\n",
    "from pysindy.utils import lorenz\n",
    "\n",
    "import pysindy as ps\n",
    "\n",
    "# ignore user warnings\n",
    "import warnings\n",
    "warnings.filterwarnings(\"ignore\", category=UserWarning)\n",
    "\n",
    "np.random.seed(1000)  # Seed for reproducibility\n",
    "\n",
    "# Integrator keywords for solve_ivp\n",
    "integrator_keywords = {} #initialize empty dictionary\n",
    "integrator_keywords['rtol'] = 1e-12 #set 3 key-value pairs in the dictonary\n",
    "integrator_keywords['method'] = 'LSODA'\n",
    "integrator_keywords['atol'] = 1e-12\n",
    "\n",
    "# bad code but allows us to ignore warnings\n",
    "import warnings\n",
    "from scipy.integrate.odepack import ODEintWarning\n",
    "warnings.simplefilter(\"ignore\", category=UserWarning)\n",
    "warnings.simplefilter(\"ignore\", category=FutureWarning)\n",
    "warnings.simplefilter(\"ignore\", category=ODEintWarning)"
   ]
  },
  {
   "cell_type": "code",
   "execution_count": 10,
   "id": "bc2440fb-4538-4413-a68e-37f0311708d5",
   "metadata": {
    "tags": []
   },
   "outputs": [],
   "source": [
    "# Make coefficient plot for threshold scan (Pareto)\n",
    "\n",
    "def plot_pareto(coefs, opt, model, threshold_scan, x_test, t_test):\n",
    "    dt = t_test[1] - t_test[0]\n",
    "    mse = np.zeros(len(threshold_scan))\n",
    "    mse_sim = np.zeros(len(threshold_scan))\n",
    "    for i in range(len(threshold_scan)):\n",
    "        opt.coef_ = coefs[i]\n",
    "        mse[i] = model.score(x_test, t=dt, metric=mean_squared_error)\n",
    "        x_test_sim = model.simulate(x_test[0, :], t_test, integrator=\"odeint\")\n",
    "        if np.any(x_test_sim > 1e4):\n",
    "            x_test_sim = 1e4\n",
    "        mse_sim[i] = np.sum((x_test - x_test_sim) ** 2)\n",
    "    plt.figure()\n",
    "    plt.semilogy(threshold_scan, mse, \"bo\")\n",
    "    plt.semilogy(threshold_scan, mse, \"b\")\n",
    "    plt.ylabel(r\"$\\dot{X}$ RMSE\", fontsize=20)\n",
    "    plt.xlabel(r\"$\\lambda$\", fontsize=20)\n",
    "    plt.xticks(fontsize=16)\n",
    "    plt.yticks(fontsize=16)\n",
    "    plt.grid(True)\n",
    "    plt.figure()\n",
    "    plt.semilogy(threshold_scan, mse_sim, \"bo\")\n",
    "    plt.semilogy(threshold_scan, mse_sim, \"b\")\n",
    "    plt.ylabel(r\"$X$ RMSE\", fontsize=20)\n",
    "    plt.xlabel(r\"$\\lambda$\", fontsize=20)\n",
    "    plt.xticks(fontsize=16)\n",
    "    plt.yticks(fontsize=16)\n",
    "    plt.grid(True)"
   ]
  },
  {
   "cell_type": "markdown",
   "id": "66ed0da2-c1d9-4dd9-a9c6-fd6b3fedd23c",
   "metadata": {},
   "source": [
    "### Normal 3D Lorenz System"
   ]
  },
  {
   "cell_type": "markdown",
   "id": "ca35da49-4639-456b-80f0-daaac73e10f6",
   "metadata": {},
   "source": [
    "Given by: \n",
    "$$\n",
    "\\begin{align}\n",
    "\\dot{x}&=\\sigma(y-x)\\\\\n",
    "\\dot{y}&=x(\\rho-z)-y\\\\\n",
    "\\dot{z}&=xy-\\beta z\n",
    "\\end{align}\n",
    "$$\n",
    "\n",
    "In this example we will use $\\sigma = 10, \\rho = 28, \\beta = \\frac{8}{3}$ and use the initial condition $(-8,8,27)$.\n",
    "For this example we also collect measurements of derivatives of state variables $(\\dot{x}, \\dot{y}, \\dot{z})$."
   ]
  },
  {
   "cell_type": "code",
   "execution_count": 11,
   "id": "bf3d342d-2d0a-4db2-9554-e19c764836c3",
   "metadata": {
    "tags": []
   },
   "outputs": [],
   "source": [
    "# Generate training data (set up parameters for numerical integration, and use numerical solver (LSODA) \n",
    "## to compute the trajectory of the Lorenz system over the specifcied time span and storing results in x_train\n",
    "\n",
    "#define time step\n",
    "dt = 0.002\n",
    "\n",
    "t_train = np.arange(0, 10, dt)             #array of time values from 0 to 10 with step of dt\n",
    "x0_train = [-8, 8, 27]                     #define initial state vector\n",
    "t_train_span = (t_train[0], t_train[-1])   #specify time span using the first and last values of in teh t_train array\n",
    "x_train = solve_ivp(\n",
    "    lorenz, t_train_span, x0_train, t_eval=t_train, **integrator_keywords\n",
    ").y.T                                      #perform numerical integration\n",
    "\n",
    "#Genrate testing data \n",
    "t_test = np.arange(0, 15, dt)\n",
    "t_test_span = (t_test[0], t_test[-1])\n",
    "x0_test = np.array([8, 7, 15])\n",
    "x_test = solve_ivp(\n",
    "    lorenz, t_test_span, x0_test, t_eval=t_test, **integrator_keywords\n",
    ").y.T"
   ]
  },
  {
   "cell_type": "code",
   "execution_count": 12,
   "id": "7567b730-7e09-42e9-8242-304746f685d7",
   "metadata": {
    "tags": []
   },
   "outputs": [
    {
     "name": "stdout",
     "output_type": "stream",
     "text": [
      "(x)' = -9.999 x + 9.999 y\n",
      "(y)' = 27.992 x + -0.999 y + -1.000 x z\n",
      "(z)' = -2.666 z + 1.000 x y\n"
     ]
    }
   ],
   "source": [
    "# Fit the model\n",
    "\n",
    "feature_names = ['x', 'y', 'z']\n",
    "threshold = 0.1 #lambda value in sparse regression optimization problem\n",
    "\n",
    "#STLSQ: sequential threshold least square optimizer\n",
    "#Using Polynomial Library (default)\n",
    "model = ps.SINDy(\n",
    "    feature_names = feature_names,\n",
    "    optimizer=ps.STLSQ(threshold=threshold),\n",
    "    #feature_library=ps.PolynomialLibrary(degree=poly_order),\n",
    ")\n",
    "model.fit(x_train, t=dt)\n",
    "model.print()"
   ]
  },
  {
   "cell_type": "code",
   "execution_count": 13,
   "id": "b9a1cadb-6e86-4223-9ee4-88cc69af8f93",
   "metadata": {
    "tags": []
   },
   "outputs": [
    {
     "name": "stderr",
     "output_type": "stream",
     "text": [
      "/Users/emilybogle/miniconda3/envs/SINDy/lib/python3.11/site-packages/pysindy/optimizers/stlsq.py:201: UserWarning: Sparsity parameter is too big (0.6000000000000001) and eliminated all coefficients\n",
      "  warnings.warn(\n",
      "/Users/emilybogle/miniconda3/envs/SINDy/lib/python3.11/site-packages/pysindy/optimizers/stlsq.py:201: UserWarning: Sparsity parameter is too big (0.7000000000000001) and eliminated all coefficients\n",
      "  warnings.warn(\n",
      "/Users/emilybogle/miniconda3/envs/SINDy/lib/python3.11/site-packages/pysindy/optimizers/stlsq.py:201: UserWarning: Sparsity parameter is too big (0.8) and eliminated all coefficients\n",
      "  warnings.warn(\n",
      "/Users/emilybogle/miniconda3/envs/SINDy/lib/python3.11/site-packages/pysindy/optimizers/stlsq.py:201: UserWarning: Sparsity parameter is too big (0.9) and eliminated all coefficients\n",
      "  warnings.warn(\n",
      "/Users/emilybogle/miniconda3/envs/SINDy/lib/python3.11/site-packages/pysindy/optimizers/stlsq.py:201: UserWarning: Sparsity parameter is too big (1.0) and eliminated all coefficients\n",
      "  warnings.warn(\n"
     ]
    },
    {
     "data": {
      "image/png": "[encoded data removed]",
      "text/plain": [
       "<Figure size 640x480 with 1 Axes>"
      ]
     },
     "metadata": {},
     "output_type": "display_data"
    },
    {
     "data": {
      "image/png": "[encoded data removed]",
      "text/plain": [
       "<Figure size 640x480 with 1 Axes>"
      ]
     },
     "metadata": {},
     "output_type": "display_data"
    }
   ],
   "source": [
    "# Making a Pareto Curve for Lambda\n",
    "\n",
    "threshold_scan = np.linspace(0, 1.0, 11)\n",
    "model_coefs = []\n",
    "#(optional) added Gaussian distributed noise with mean 0 and standard variation being 10% of the root mean squared error of \n",
    "##    training data to every point in the training data\n",
    "# mse is expected values of the squared error or loss, rmse is square root of mse\n",
    "rmse = mean_squared_error(x_train, np.zeros(x_train.shape), squared = False)\n",
    "x_train_added_noise = x_train + np.random.normal(0, rmse / 10.0, x_train.shape)\n",
    "\n",
    "for i, threshold in enumerate(threshold_scan):\n",
    "    opt = ps.STLSQ(threshold = threshold)\n",
    "    model = ps.SINDy(feature_names = feature_names, optimizer = opt)\n",
    "    model.fit(x_train_added_noise, t=dt)\n",
    "    #model.fit(x_train, t=dt)\n",
    "    model_coefs.append(model.coefficients())\n",
    "    \n",
    "plot_pareto(model_coefs, opt, model, threshold_scan, x_test, t_test)"
   ]
  },
  {
   "cell_type": "markdown",
   "id": "ce1d342b-803e-4625-8c1c-7fe3e9ed09e6",
   "metadata": {},
   "source": [
    "### Normal 5D Lorenz System"
   ]
  },
  {
   "cell_type": "markdown",
   "id": "5e37d67c-231c-43f1-a2dd-eb770f539434",
   "metadata": {},
   "source": [
    "Given by: \n",
    "$$\n",
    "\\begin{align}\n",
    "\\dot{x}&=\\sigma(y-x)\\\\\n",
    "\\dot{y}&=x(\\rho-z)-y\\\\\n",
    "\\dot{z}&=xy-\\beta z - xv \\\\\n",
    "\\dot{v}&=xz -2xu-d_0v\\\\\n",
    "\\dot{u}&=2xv -4\\beta u\n",
    "\\end{align}\n",
    "$$\n",
    "\n",
    "In this example we will use $\\sigma = 10, \\rho = 28, \\beta = \\frac{8}{3}, d_0=\\frac{19}{3}$ and use the initial condition $(0,1,0,0,0)$.\n",
    "For this example we also collect measurements of derivatives of state variables $(\\dot{x}, \\dot{y}, \\dot{z}, \\dot{v}, \\dot{u})$."
   ]
  },
  {
   "cell_type": "code",
   "execution_count": 14,
   "id": "c04e4781-ce61-4baf-9f8d-5a1b45690036",
   "metadata": {
    "tags": []
   },
   "outputs": [],
   "source": [
    "# Define 5D Lorenz System\n",
    "def lorenz5D(t, x, sigma=10, beta=2.66667, rho=28, d0=6.33333):\n",
    "    return[\n",
    "        sigma * (x[1] - x[0]),\n",
    "        x[0] * (rho - x[2]) - x[1],\n",
    "        x[0] * x[1] - x[0] * x[3] - beta * x[2],\n",
    "        x[0] * x[2] - 2 * x[0] * x[4] - d0 * x[3],\n",
    "        2 * x[0] * x[3] - 4 * beta * x[4]\n",
    "    ]\n",
    "\n",
    "# Generate training data\n",
    "\n",
    "dt = 0.001\n",
    "t_train = np.arange(0, 100, dt)\n",
    "t_train_span = (t_train[0], t_train[-1])\n",
    "x0_train = np.array([0, 1, 0, 0, 0])\n",
    "x_train = solve_ivp(lorenz5D, t_train_span,\n",
    "                    x0_train, t_eval=t_train, **integrator_keywords).y.T\n",
    "x_dot_train_measured = np.array(\n",
    "    [lorenz5D(0, x_train[i]) for i in range(t_train.size)]\n",
    ")\n",
    "\n",
    "# Generate testing data\n",
    "t_test = np.arange(0, 100, dt)\n",
    "t_test_span = (t_test[0], t_test[-1])\n",
    "x0_test = np.array([0, 1, 0, 0, 0])\n",
    "x_test = solve_ivp(lorenz5D, t_test_span, \n",
    "                   x0_test, t_eval=t_test, **integrator_keywords).y.T"
   ]
  },
  {
   "cell_type": "code",
   "execution_count": 15,
   "id": "01795b36-14f7-4f3c-91c3-ffc677e0a2a1",
   "metadata": {
    "tags": []
   },
   "outputs": [
    {
     "name": "stdout",
     "output_type": "stream",
     "text": [
      "(x)' = -10.000 x + 10.000 y\n",
      "(y)' = 27.998 x + -1.000 y + -1.000 x z\n",
      "(z)' = -2.667 z + 1.000 x y + -1.000 x v\n",
      "(v)' = -6.332 v + 1.000 x z + -2.000 x u\n",
      "(u)' = -10.666 u + 2.000 x v\n"
     ]
    }
   ],
   "source": [
    "# Fit the model\n",
    "\n",
    "feature_names = ['x', 'y', 'z', 'v', 'u']\n",
    "#poly_order = 5 #does not work (saying lambda is too big, sparsifying out all the variables)\n",
    "#poly_order = 3 #assuming this is highest polynomial order consdiered in candidate functions matrix\n",
    "threshold = 0.1 #lambda value in sparse regression optimization problem\n",
    "\n",
    "#STLSQ: sequential threshold least square optimizer\n",
    "#Using Polynomial Library up to polynomial order determined above\n",
    "model = ps.SINDy(\n",
    "    feature_names = feature_names,\n",
    "    optimizer=ps.STLSQ(threshold=threshold),\n",
    "    #feature_library=ps.PolynomialLibrary(degree=poly_order),\n",
    ")\n",
    "model.fit(x_train, t=dt)\n",
    "model.print()"
   ]
  },
  {
   "cell_type": "code",
   "execution_count": 16,
   "id": "5ced5e60-d5f5-45c6-8c2a-eade366d4af4",
   "metadata": {
    "tags": []
   },
   "outputs": [
    {
     "name": "stderr",
     "output_type": "stream",
     "text": [
      "/Users/emilybogle/miniconda3/envs/SINDy/lib/python3.11/site-packages/pysindy/optimizers/stlsq.py:201: UserWarning: Sparsity parameter is too big (0.7000000000000001) and eliminated all coefficients\n",
      "  warnings.warn(\n",
      "/Users/emilybogle/miniconda3/envs/SINDy/lib/python3.11/site-packages/pysindy/optimizers/stlsq.py:201: UserWarning: Sparsity parameter is too big (0.7000000000000001) and eliminated all coefficients\n",
      "  warnings.warn(\n",
      "/Users/emilybogle/miniconda3/envs/SINDy/lib/python3.11/site-packages/pysindy/optimizers/stlsq.py:201: UserWarning: Sparsity parameter is too big (0.8) and eliminated all coefficients\n",
      "  warnings.warn(\n",
      "/Users/emilybogle/miniconda3/envs/SINDy/lib/python3.11/site-packages/pysindy/optimizers/stlsq.py:201: UserWarning: Sparsity parameter is too big (0.9) and eliminated all coefficients\n",
      "  warnings.warn(\n",
      "/Users/emilybogle/miniconda3/envs/SINDy/lib/python3.11/site-packages/pysindy/optimizers/stlsq.py:201: UserWarning: Sparsity parameter is too big (1.0) and eliminated all coefficients\n",
      "  warnings.warn(\n"
     ]
    },
    {
     "name": "stdout",
     "output_type": "stream",
     "text": [
      " lsoda--  warning..internal t (=r1) and h (=r2) are\u0000\u0000\n",
      "       such that in the machine, t + h = t on the next step  \n",
      "       (h = step size). solver will continue anyway\u0000\u0000\n",
      "      in above,  r1 =  0.2859318266973D+01   r2 =  0.1913502865048D-15\n",
      " lsoda--  warning..internal t (=r1) and h (=r2) are\u0000\u0000\n",
      "       such that in the machine, t + h = t on the next step  \n",
      "       (h = step size). solver will continue anyway\u0000\u0000\n",
      "      in above,  r1 =  0.2859318266973D+01   r2 =  0.1913502865048D-15\n",
      " lsoda--  warning..internal t (=r1) and h (=r2) are\u0000\u0000\n",
      "       such that in the machine, t + h = t on the next step  \n",
      "       (h = step size). solver will continue anyway\u0000\u0000\n",
      "      in above,  r1 =  0.2859318266973D+01   r2 =  0.1913502865048D-15\n",
      " lsoda--  warning..internal t (=r1) and h (=r2) are\u0000\u0000\n",
      "       such that in the machine, t + h = t on the next step  \n",
      "       (h = step size). solver will continue anyway\u0000\u0000\n",
      "      in above,  r1 =  0.2859318266973D+01   r2 =  0.1913502865048D-15\n",
      " lsoda--  warning..internal t (=r1) and h (=r2) are\u0000\u0000\n",
      "       such that in the machine, t + h = t on the next step  \n",
      "       (h = step size). solver will continue anyway\u0000\u0000\n",
      "      in above,  r1 =  0.2859318266973D+01   r2 =  0.1553564412195D-15\n",
      " lsoda--  warning..internal t (=r1) and h (=r2) are\u0000\u0000\n",
      "       such that in the machine, t + h = t on the next step  \n",
      "       (h = step size). solver will continue anyway\u0000\u0000\n",
      "      in above,  r1 =  0.2859318266973D+01   r2 =  0.1553564412195D-15\n",
      " lsoda--  warning..internal t (=r1) and h (=r2) are\u0000\u0000\n",
      "       such that in the machine, t + h = t on the next step  \n",
      "       (h = step size). solver will continue anyway\u0000\u0000\n",
      "      in above,  r1 =  0.2859318266973D+01   r2 =  0.1553564412195D-15\n",
      " lsoda--  warning..internal t (=r1) and h (=r2) are\u0000\u0000\n",
      "       such that in the machine, t + h = t on the next step  \n",
      "       (h = step size). solver will continue anyway\u0000\u0000\n",
      "      in above,  r1 =  0.2859318266973D+01   r2 =  0.1553564412195D-15\n",
      " lsoda--  warning..internal t (=r1) and h (=r2) are\u0000\u0000\n",
      "       such that in the machine, t + h = t on the next step  \n",
      "       (h = step size). solver will continue anyway\u0000\u0000\n",
      "      in above,  r1 =  0.2859318266973D+01   r2 =  0.1261331982157D-15\n",
      " lsoda--  warning..internal t (=r1) and h (=r2) are\u0000\u0000\n",
      "       such that in the machine, t + h = t on the next step  \n",
      "       (h = step size). solver will continue anyway\u0000\u0000\n",
      "      in above,  r1 =  0.2859318266973D+01   r2 =  0.1261331982157D-15\n",
      " lsoda--  above warning has been issued i1 times.  \u0000\u0000\n",
      "       it will not be issued again for this problem\u0000\u0000\n",
      "      in above message,  i1 =        10\n"
     ]
    },
    {
     "ename": "KeyboardInterrupt",
     "evalue": "",
     "output_type": "error",
     "traceback": [
      "\u001b[0;31m---------------------------------------------------------------------------\u001b[0m",
      "\u001b[0;31mKeyboardInterrupt\u001b[0m                         Traceback (most recent call last)",
      "Cell \u001b[0;32mIn[16], line 17\u001b[0m\n\u001b[1;32m     14\u001b[0m     \u001b[38;5;66;03m#model.fit(x_train, t=dt)\u001b[39;00m\n\u001b[1;32m     15\u001b[0m     model_coefs\u001b[38;5;241m.\u001b[39mappend(model\u001b[38;5;241m.\u001b[39mcoefficients())\n\u001b[0;32m---> 17\u001b[0m plot_pareto(model_coefs, opt, model, threshold_scan, x_test, t_test)\n",
      "Cell \u001b[0;32mIn[10], line 10\u001b[0m, in \u001b[0;36mplot_pareto\u001b[0;34m(coefs, opt, model, threshold_scan, x_test, t_test)\u001b[0m\n\u001b[1;32m      8\u001b[0m opt\u001b[38;5;241m.\u001b[39mcoef_ \u001b[38;5;241m=\u001b[39m coefs[i]\n\u001b[1;32m      9\u001b[0m mse[i] \u001b[38;5;241m=\u001b[39m model\u001b[38;5;241m.\u001b[39mscore(x_test, t\u001b[38;5;241m=\u001b[39mdt, metric\u001b[38;5;241m=\u001b[39mmean_squared_error)\n\u001b[0;32m---> 10\u001b[0m x_test_sim \u001b[38;5;241m=\u001b[39m model\u001b[38;5;241m.\u001b[39msimulate(x_test[\u001b[38;5;241m0\u001b[39m, :], t_test, integrator\u001b[38;5;241m=\u001b[39m\u001b[38;5;124m\"\u001b[39m\u001b[38;5;124modeint\u001b[39m\u001b[38;5;124m\"\u001b[39m)\n\u001b[1;32m     11\u001b[0m \u001b[38;5;28;01mif\u001b[39;00m np\u001b[38;5;241m.\u001b[39many(x_test_sim \u001b[38;5;241m>\u001b[39m \u001b[38;5;241m1e4\u001b[39m):\n\u001b[1;32m     12\u001b[0m     x_test_sim \u001b[38;5;241m=\u001b[39m \u001b[38;5;241m1e4\u001b[39m\n",
      "File \u001b[0;32m~/miniconda3/envs/SINDy/lib/python3.11/site-packages/pysindy/pysindy.py:901\u001b[0m, in \u001b[0;36mSINDy.simulate\u001b[0;34m(self, x0, t, u, integrator, stop_condition, interpolator, integrator_kws, interpolator_kws)\u001b[0m\n\u001b[1;32m    899\u001b[0m     \u001b[38;5;28;01mif\u001b[39;00m integrator_kws\u001b[38;5;241m.\u001b[39mget(\u001b[38;5;124m\"\u001b[39m\u001b[38;5;124mmethod\u001b[39m\u001b[38;5;124m\"\u001b[39m) \u001b[38;5;241m==\u001b[39m \u001b[38;5;124m\"\u001b[39m\u001b[38;5;124mLSODA\u001b[39m\u001b[38;5;124m\"\u001b[39m:\n\u001b[1;32m    900\u001b[0m         integrator_kws \u001b[38;5;241m=\u001b[39m {}\n\u001b[0;32m--> 901\u001b[0m     \u001b[38;5;28;01mreturn\u001b[39;00m odeint(rhs, x0, t, tfirst\u001b[38;5;241m=\u001b[39m\u001b[38;5;28;01mTrue\u001b[39;00m, \u001b[38;5;241m*\u001b[39m\u001b[38;5;241m*\u001b[39mintegrator_kws)\n\u001b[1;32m    902\u001b[0m \u001b[38;5;28;01melse\u001b[39;00m:\n\u001b[1;32m    903\u001b[0m     \u001b[38;5;28;01mraise\u001b[39;00m \u001b[38;5;167;01mValueError\u001b[39;00m(\u001b[38;5;124m\"\u001b[39m\u001b[38;5;124mIntegrator not supported, exiting\u001b[39m\u001b[38;5;124m\"\u001b[39m)\n",
      "File \u001b[0;32m~/miniconda3/envs/SINDy/lib/python3.11/site-packages/scipy/integrate/_odepack_py.py:242\u001b[0m, in \u001b[0;36modeint\u001b[0;34m(func, y0, t, args, Dfun, col_deriv, full_output, ml, mu, rtol, atol, tcrit, h0, hmax, hmin, ixpr, mxstep, mxhnil, mxordn, mxords, printmessg, tfirst)\u001b[0m\n\u001b[1;32m    240\u001b[0m t \u001b[38;5;241m=\u001b[39m copy(t)\n\u001b[1;32m    241\u001b[0m y0 \u001b[38;5;241m=\u001b[39m copy(y0)\n\u001b[0;32m--> 242\u001b[0m output \u001b[38;5;241m=\u001b[39m _odepack\u001b[38;5;241m.\u001b[39modeint(func, y0, t, args, Dfun, col_deriv, ml, mu,\n\u001b[1;32m    243\u001b[0m                          full_output, rtol, atol, tcrit, h0, hmax, hmin,\n\u001b[1;32m    244\u001b[0m                          ixpr, mxstep, mxhnil, mxordn, mxords,\n\u001b[1;32m    245\u001b[0m                          \u001b[38;5;28mint\u001b[39m(\u001b[38;5;28mbool\u001b[39m(tfirst)))\n\u001b[1;32m    246\u001b[0m \u001b[38;5;28;01mif\u001b[39;00m output[\u001b[38;5;241m-\u001b[39m\u001b[38;5;241m1\u001b[39m] \u001b[38;5;241m<\u001b[39m \u001b[38;5;241m0\u001b[39m:\n\u001b[1;32m    247\u001b[0m     warning_msg \u001b[38;5;241m=\u001b[39m _msgs[output[\u001b[38;5;241m-\u001b[39m\u001b[38;5;241m1\u001b[39m]] \u001b[38;5;241m+\u001b[39m \u001b[38;5;124m\"\u001b[39m\u001b[38;5;124m Run with full_output = 1 to get quantitative information.\u001b[39m\u001b[38;5;124m\"\u001b[39m\n",
      "File \u001b[0;32m~/miniconda3/envs/SINDy/lib/python3.11/site-packages/pysindy/pysindy.py:860\u001b[0m, in \u001b[0;36mSINDy.simulate.<locals>.rhs\u001b[0;34m(t, x)\u001b[0m\n\u001b[1;32m    859\u001b[0m \u001b[38;5;28;01mdef\u001b[39;00m \u001b[38;5;21mrhs\u001b[39m(t, x):\n\u001b[0;32m--> 860\u001b[0m     \u001b[38;5;28;01mreturn\u001b[39;00m \u001b[38;5;28mself\u001b[39m\u001b[38;5;241m.\u001b[39mpredict(x[np\u001b[38;5;241m.\u001b[39mnewaxis, :])[\u001b[38;5;241m0\u001b[39m]\n",
      "File \u001b[0;32m~/miniconda3/envs/SINDy/lib/python3.11/site-packages/pysindy/pysindy.py:478\u001b[0m, in \u001b[0;36mSINDy.predict\u001b[0;34m(self, x, u, multiple_trajectories)\u001b[0m\n\u001b[1;32m    476\u001b[0m     x \u001b[38;5;241m=\u001b[39m [np\u001b[38;5;241m.\u001b[39mconcatenate((xi, ui), axis\u001b[38;5;241m=\u001b[39mxi\u001b[38;5;241m.\u001b[39max_coord) \u001b[38;5;28;01mfor\u001b[39;00m xi, ui \u001b[38;5;129;01min\u001b[39;00m \u001b[38;5;28mzip\u001b[39m(x, u)]\n\u001b[1;32m    477\u001b[0m result \u001b[38;5;241m=\u001b[39m [\u001b[38;5;28mself\u001b[39m\u001b[38;5;241m.\u001b[39mmodel\u001b[38;5;241m.\u001b[39mpredict([xi]) \u001b[38;5;28;01mfor\u001b[39;00m xi \u001b[38;5;129;01min\u001b[39;00m x]\n\u001b[0;32m--> 478\u001b[0m result \u001b[38;5;241m=\u001b[39m [\n\u001b[1;32m    479\u001b[0m     \u001b[38;5;28mself\u001b[39m\u001b[38;5;241m.\u001b[39mfeature_library\u001b[38;5;241m.\u001b[39mreshape_samples_to_spatial_grid(pred)\n\u001b[1;32m    480\u001b[0m     \u001b[38;5;28;01mfor\u001b[39;00m pred \u001b[38;5;129;01min\u001b[39;00m result\n\u001b[1;32m    481\u001b[0m ]\n\u001b[1;32m    483\u001b[0m \u001b[38;5;66;03m# Kept for backwards compatibility.\u001b[39;00m\n\u001b[1;32m    484\u001b[0m \u001b[38;5;28;01mif\u001b[39;00m \u001b[38;5;129;01mnot\u001b[39;00m multiple_trajectories:\n",
      "File \u001b[0;32m~/miniconda3/envs/SINDy/lib/python3.11/site-packages/pysindy/pysindy.py:479\u001b[0m, in \u001b[0;36m<listcomp>\u001b[0;34m(.0)\u001b[0m\n\u001b[1;32m    476\u001b[0m     x \u001b[38;5;241m=\u001b[39m [np\u001b[38;5;241m.\u001b[39mconcatenate((xi, ui), axis\u001b[38;5;241m=\u001b[39mxi\u001b[38;5;241m.\u001b[39max_coord) \u001b[38;5;28;01mfor\u001b[39;00m xi, ui \u001b[38;5;129;01min\u001b[39;00m \u001b[38;5;28mzip\u001b[39m(x, u)]\n\u001b[1;32m    477\u001b[0m result \u001b[38;5;241m=\u001b[39m [\u001b[38;5;28mself\u001b[39m\u001b[38;5;241m.\u001b[39mmodel\u001b[38;5;241m.\u001b[39mpredict([xi]) \u001b[38;5;28;01mfor\u001b[39;00m xi \u001b[38;5;129;01min\u001b[39;00m x]\n\u001b[1;32m    478\u001b[0m result \u001b[38;5;241m=\u001b[39m [\n\u001b[0;32m--> 479\u001b[0m     \u001b[38;5;28mself\u001b[39m\u001b[38;5;241m.\u001b[39mfeature_library\u001b[38;5;241m.\u001b[39mreshape_samples_to_spatial_grid(pred)\n\u001b[1;32m    480\u001b[0m     \u001b[38;5;28;01mfor\u001b[39;00m pred \u001b[38;5;129;01min\u001b[39;00m result\n\u001b[1;32m    481\u001b[0m ]\n\u001b[1;32m    483\u001b[0m \u001b[38;5;66;03m# Kept for backwards compatibility.\u001b[39;00m\n\u001b[1;32m    484\u001b[0m \u001b[38;5;28;01mif\u001b[39;00m \u001b[38;5;129;01mnot\u001b[39;00m multiple_trajectories:\n",
      "File \u001b[0;32m~/miniconda3/envs/SINDy/lib/python3.11/site-packages/pysindy/feature_library/base.py:57\u001b[0m, in \u001b[0;36mBaseFeatureLibrary.reshape_samples_to_spatial_grid\u001b[0;34m(self, x)\u001b[0m\n\u001b[1;32m     55\u001b[0m spatial_grid \u001b[38;5;241m=\u001b[39m \u001b[38;5;28mself\u001b[39m\u001b[38;5;241m.\u001b[39mget_spatial_grid()\n\u001b[1;32m     56\u001b[0m \u001b[38;5;28;01mif\u001b[39;00m spatial_grid \u001b[38;5;129;01mis\u001b[39;00m \u001b[38;5;28;01mNone\u001b[39;00m:\n\u001b[0;32m---> 57\u001b[0m     \u001b[38;5;28;01mreturn\u001b[39;00m AxesArray(x, {\u001b[38;5;124m\"\u001b[39m\u001b[38;5;124max_sample\u001b[39m\u001b[38;5;124m\"\u001b[39m: \u001b[38;5;241m0\u001b[39m, \u001b[38;5;124m\"\u001b[39m\u001b[38;5;124max_coord\u001b[39m\u001b[38;5;124m\"\u001b[39m: \u001b[38;5;241m1\u001b[39m})\n\u001b[1;32m     58\u001b[0m \u001b[38;5;66;03m# PDELibrary can have a zero spatial dimension for SINDyPI.\u001b[39;00m\n\u001b[1;32m     59\u001b[0m shape \u001b[38;5;241m=\u001b[39m [dim \u001b[38;5;28;01mfor\u001b[39;00m dim \u001b[38;5;129;01min\u001b[39;00m \u001b[38;5;28mself\u001b[39m\u001b[38;5;241m.\u001b[39mget_spatial_grid()\u001b[38;5;241m.\u001b[39mshape[:\u001b[38;5;241m-\u001b[39m\u001b[38;5;241m1\u001b[39m] \u001b[38;5;28;01mif\u001b[39;00m dim \u001b[38;5;241m!=\u001b[39m \u001b[38;5;241m0\u001b[39m]\n",
      "File \u001b[0;32m~/miniconda3/envs/SINDy/lib/python3.11/site-packages/pysindy/utils/axes.py:26\u001b[0m, in \u001b[0;36mAxesArray.__new__\u001b[0;34m(cls, input_array, axes)\u001b[0m\n\u001b[1;32m     25\u001b[0m \u001b[38;5;28;01mdef\u001b[39;00m \u001b[38;5;21m__new__\u001b[39m(\u001b[38;5;28mcls\u001b[39m, input_array, axes):\n\u001b[0;32m---> 26\u001b[0m     obj \u001b[38;5;241m=\u001b[39m np\u001b[38;5;241m.\u001b[39masarray(input_array)\u001b[38;5;241m.\u001b[39mview(\u001b[38;5;28mcls\u001b[39m)\n\u001b[1;32m     27\u001b[0m     defaults \u001b[38;5;241m=\u001b[39m {\n\u001b[1;32m     28\u001b[0m         \u001b[38;5;124m\"\u001b[39m\u001b[38;5;124max_time\u001b[39m\u001b[38;5;124m\"\u001b[39m: \u001b[38;5;28;01mNone\u001b[39;00m,\n\u001b[1;32m     29\u001b[0m         \u001b[38;5;124m\"\u001b[39m\u001b[38;5;124max_coord\u001b[39m\u001b[38;5;124m\"\u001b[39m: \u001b[38;5;28;01mNone\u001b[39;00m,\n\u001b[1;32m     30\u001b[0m         \u001b[38;5;124m\"\u001b[39m\u001b[38;5;124max_sample\u001b[39m\u001b[38;5;124m\"\u001b[39m: \u001b[38;5;28;01mNone\u001b[39;00m,\n\u001b[1;32m     31\u001b[0m         \u001b[38;5;124m\"\u001b[39m\u001b[38;5;124max_spatial\u001b[39m\u001b[38;5;124m\"\u001b[39m: [],\n\u001b[1;32m     32\u001b[0m     }\n\u001b[1;32m     33\u001b[0m     \u001b[38;5;28;01mif\u001b[39;00m axes \u001b[38;5;129;01mis\u001b[39;00m \u001b[38;5;28;01mNone\u001b[39;00m:\n",
      "File \u001b[0;32m~/miniconda3/envs/SINDy/lib/python3.11/site-packages/pysindy/utils/axes.py:44\u001b[0m, in \u001b[0;36mAxesArray.__array_finalize__\u001b[0;34m(self, obj)\u001b[0m\n\u001b[1;32m     42\u001b[0m \u001b[38;5;28mself\u001b[39m\u001b[38;5;241m.\u001b[39max_coord \u001b[38;5;241m=\u001b[39m \u001b[38;5;28mgetattr\u001b[39m(obj, \u001b[38;5;124m\"\u001b[39m\u001b[38;5;124max_coord\u001b[39m\u001b[38;5;124m\"\u001b[39m, \u001b[38;5;28;01mNone\u001b[39;00m)\n\u001b[1;32m     43\u001b[0m \u001b[38;5;28mself\u001b[39m\u001b[38;5;241m.\u001b[39max_sample \u001b[38;5;241m=\u001b[39m \u001b[38;5;28mgetattr\u001b[39m(obj, \u001b[38;5;124m\"\u001b[39m\u001b[38;5;124max_sample\u001b[39m\u001b[38;5;124m\"\u001b[39m, \u001b[38;5;28;01mNone\u001b[39;00m)\n\u001b[0;32m---> 44\u001b[0m \u001b[38;5;28mself\u001b[39m\u001b[38;5;241m.\u001b[39max_spatial \u001b[38;5;241m=\u001b[39m \u001b[38;5;28mgetattr\u001b[39m(obj, \u001b[38;5;124m\"\u001b[39m\u001b[38;5;124max_spatial\u001b[39m\u001b[38;5;124m\"\u001b[39m, [])\n",
      "\u001b[0;31mKeyboardInterrupt\u001b[0m: "
     ]
    }
   ],
   "source": [
    "# Making a Pareto Curve for Lambda\n",
    "\n",
    "threshold_scan = np.linspace(0, 1, 11)\n",
    "model_coefs = []\n",
    "#(optional) added Gaussian distributed noise with mean 0 and variance? being 1% of the root mean squared error of training data to\n",
    "##    every point in the training data\n",
    "rmse = mean_squared_error(x_train, np.zeros(x_train.shape), squared = False)\n",
    "x_train_added_noise = x_train + np.random.normal(0, rmse / 100.0, x_train.shape)\n",
    "\n",
    "for i, threshold in enumerate(threshold_scan):\n",
    "    opt = ps.STLSQ(threshold = threshold)\n",
    "    model = ps.SINDy(feature_names = feature_names, optimizer = opt)\n",
    "    model.fit(x_train_added_noise, t=dt)\n",
    "    #model.fit(x_train, t=dt)\n",
    "    model_coefs.append(model.coefficients())\n",
    "    \n",
    "plot_pareto(model_coefs, opt, model, threshold_scan, x_test, t_test)"
   ]
  }
 ],
 "metadata": {
  "kernelspec": {
   "display_name": "Python [conda env:SINDy]",
   "language": "python",
   "name": "conda-env-SINDy-py"
  },
  "language_info": {
   "codemirror_mode": {
    "name": "ipython",
    "version": 3
   },
   "file_extension": ".py",
   "mimetype": "text/x-python",
   "name": "python",
   "nbconvert_exporter": "python",
   "pygments_lexer": "ipython3",
   "version": "3.11.6"
  }
 },
 "nbformat": 4,
 "nbformat_minor": 5
}
